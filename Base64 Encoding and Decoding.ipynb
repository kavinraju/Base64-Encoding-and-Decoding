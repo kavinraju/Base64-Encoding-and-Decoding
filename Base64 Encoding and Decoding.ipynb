{
 "cells": [
  {
   "cell_type": "code",
   "execution_count": 1,
   "metadata": {},
   "outputs": [],
   "source": [
    "#Base64 Encoding\n",
    "\n",
    "# Enter the value to be encoded here\n",
    "value = \"any carnal pleasure.\"\n",
    "\n",
    "# Uncomment the below line (by removing the # sign) to input the value\n",
    "#value = input(\"Enter the value to be encoded here: \")\n"
   ]
  },
  {
   "cell_type": "code",
   "execution_count": 2,
   "metadata": {},
   "outputs": [
    {
     "name": "stdout",
     "output_type": "stream",
     "text": [
      "{0: 'A', 1: 'B', 2: 'C', 3: 'D', 4: 'E', 5: 'F', 6: 'G', 7: 'H', 8: 'I', 9: 'J', 10: 'K', 11: 'L', 12: 'M', 13: 'N', 14: 'O', 15: 'P', 16: 'Q', 17: 'R', 18: 'S', 19: 'T', 20: 'U', 21: 'V', 22: 'W', 23: 'X', 24: 'Y', 25: 'Z', 26: 'a', 27: 'b', 28: 'c', 29: 'd', 30: 'e', 31: 'f', 32: 'g', 33: 'h', 34: 'i', 35: 'j', 36: 'k', 37: 'l', 38: 'm', 39: 'n', 40: 'o', 41: 'p', 42: 'q', 43: 'r', 44: 's', 45: 't', 46: 'u', 47: 'v', 48: 'w', 49: 'x', 50: 'y', 51: 'z', 52: '0', 53: '1', 54: '2', 55: '3', 56: '4', 57: '5', 58: '6', 59: '7', 60: '8', 61: '9', 62: '+', 63: '/'}\n"
     ]
    }
   ],
   "source": [
    "# Genrate the Base64 table\n",
    "base64_table = {}\n",
    "i = 0\n",
    "for ascii_code in range(ord('A'), ord('Z')+1):\n",
    "    base64_table[i] = chr(ascii_code)\n",
    "    i+=1\n",
    "    \n",
    "for ascii_code in range(ord('a'), ord('z')+1):\n",
    "    base64_table[i] = chr(ascii_code)\n",
    "    i+=1\n",
    "    \n",
    "for n in range(0, 10):\n",
    "    base64_table[i] = str(n)\n",
    "    i+=1\n",
    "    \n",
    "base64_table[i] = '+'\n",
    "i+=1\n",
    "base64_table[i] = '/'\n",
    "\n",
    "print(base64_table)\n",
    "\n",
    "# function to return key for any value\n",
    "def get_base64_table_key(val):\n",
    "    for key, value in base64_table.items():\n",
    "         if val == value:\n",
    "            return key\n",
    " \n",
    "    if val == \"=\":\n",
    "        return \"=\"\n",
    "    \n",
    "    return \"\""
   ]
  },
  {
   "cell_type": "markdown",
   "metadata": {},
   "source": [
    "## Base64 Encoding"
   ]
  },
  {
   "cell_type": "code",
   "execution_count": 3,
   "metadata": {},
   "outputs": [],
   "source": [
    "# Initialization of variables required\n",
    "octets = []\n",
    "\n",
    "# Genrate the equivalent octets of the characters in the string value\n",
    "for char in value:\n",
    "    #print(\"{}: {}\".format(ord(char), char))\n",
    "    octets.append(bin(ord(char)).replace(\"0b\", \"\"))\n",
    "    \n",
    "# Make the octets to of 8-bits in size\n",
    "for i in range(0, len(octets)):\n",
    "    length = len(octets[i])\n",
    "    if length < 8:\n",
    "        required_bits = 8 - length\n",
    "        while(required_bits > 0):\n",
    "            octets[i] = \"0\" + octets[i]\n",
    "            required_bits-=1\n",
    "\n",
    "#print(octets)\n",
    "\n",
    "# Convert the octet as a single string\n",
    "octets_str = \"\".join(octets)\n",
    "#print(len(octets_str)/6)\n",
    "\n",
    "is_integer = (len(octets_str)/6).is_integer()\n",
    "#print(is_integer)"
   ]
  },
  {
   "cell_type": "code",
   "execution_count": 4,
   "metadata": {},
   "outputs": [
    {
     "name": "stdout",
     "output_type": "stream",
     "text": [
      "Encoded String of any carnal pleasure. is: YW55IGNhcm5hbCBwbGVhc3VyZS4=\n"
     ]
    }
   ],
   "source": [
    "# Initialization of variables required\n",
    "sixtets = []\n",
    "len_of_octets_str = len(octets_str)\n",
    "len_of_bin = 6\n",
    "\n",
    "# Convert the 8-bit to 6-bit equivalent\n",
    "sixtets = [octets_str[i:i+len_of_bin] for i in range(0, len_of_octets_str, len_of_bin)]\n",
    "\n",
    "# Add padding bits\n",
    "padding = 0\n",
    "if(not is_integer):\n",
    "    length = len(sixtets[len(sixtets)-1])\n",
    "    #print(length)\n",
    "    required_bits = 6 - length\n",
    "    padding = required_bits // 2\n",
    "    while(required_bits > 0):\n",
    "        sixtets[len(sixtets)-1] = sixtets[len(sixtets)-1] + \"0\"\n",
    "        required_bits-=1\n",
    "#print(sixtets)\n",
    "\n",
    "encoded_chars = [base64_table[int(sixtets[i],2)] for i in range(0, len(sixtets))]\n",
    "encoded_string = \"\".join(encoded_chars)\n",
    "\n",
    "while(padding > 0):\n",
    "    encoded_string = encoded_string + \"=\"\n",
    "    padding-=1\n",
    "\n",
    "print(\"Encoded String of {} is: {}\".format(value, encoded_string))"
   ]
  },
  {
   "cell_type": "markdown",
   "metadata": {},
   "source": [
    "## Base64 Decoding"
   ]
  },
  {
   "cell_type": "code",
   "execution_count": 5,
   "metadata": {},
   "outputs": [],
   "source": [
    "# Run this cell to load the encoded string\n",
    "base64_encoded_string = encoded_string\n",
    "\n",
    "# Uncomment the below line (by removing the # sign) to input the encoded string\n",
    "#base64_encoded_string = input(\"Enter the encoded string to be decoded here: \")\n"
   ]
  },
  {
   "cell_type": "code",
   "execution_count": 6,
   "metadata": {},
   "outputs": [],
   "source": [
    "sixtets_decoded = []\n",
    "num_of_padding = 0\n",
    "\n",
    "# Genrate the equivalent sixtets of the characters in the string base64_encoded_string\n",
    "for char in base64_encoded_string:\n",
    "    key = get_base64_table_key(char)\n",
    "    if key == \"=\":\n",
    "        num_of_padding += 1\n",
    "    else:\n",
    "        sixtets_decoded.append(bin(int(key)).replace(\"0b\", \"\"))\n",
    "    \n",
    "\n",
    "# Make the sixtets_decoded to of 6-bits in size\n",
    "for i in range(0, len(sixtets_decoded)):\n",
    "    length = len(sixtets_decoded[i])\n",
    "    if length < 6:\n",
    "        required_bits = 6 - length\n",
    "        while(required_bits > 0):\n",
    "            sixtets_decoded[i] = \"0\" + sixtets_decoded[i]\n",
    "            required_bits-=1\n",
    "            \n",
    "    \n",
    "sixtets_str_decoded = \"\".join(sixtets_decoded)"
   ]
  },
  {
   "cell_type": "code",
   "execution_count": 7,
   "metadata": {},
   "outputs": [
    {
     "name": "stdout",
     "output_type": "stream",
     "text": [
      "Decoded String of YW55IGNhcm5hbCBwbGVhc3VyZS4= is: any carnal pleasure.\u0000\n"
     ]
    }
   ],
   "source": [
    "len_octect_str_decoded = len(sixtets_str_decoded)\n",
    "len_of_8_bit = 8\n",
    "\n",
    "# Convert the 6-bit to 8-bit equivalent\n",
    "octets_decoded = [sixtets_str_decoded[i:i+len_of_8_bit] for i in range(0, len_octect_str_decoded, len_of_8_bit)]\n",
    "\n",
    "decoded_chars = [chr(int(octets_decoded[i],2)) for i in range(0, len(octets_decoded))]\n",
    "decoded_string = \"\".join(decoded_chars)\n",
    "\n",
    "print(\"Decoded String of {} is: {}\".format(base64_encoded_string, decoded_string))"
   ]
  }
 ],
 "metadata": {
  "kernelspec": {
   "display_name": "Python 3",
   "language": "python",
   "name": "python3"
  },
  "language_info": {
   "codemirror_mode": {
    "name": "ipython",
    "version": 3
   },
   "file_extension": ".py",
   "mimetype": "text/x-python",
   "name": "python",
   "nbconvert_exporter": "python",
   "pygments_lexer": "ipython3",
   "version": "3.7.4"
  }
 },
 "nbformat": 4,
 "nbformat_minor": 2
}
